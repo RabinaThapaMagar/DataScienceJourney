{
 "cells": [
  {
   "cell_type": "markdown",
   "id": "3b936103-f745-4f29-8198-da2d969c8476",
   "metadata": {},
   "source": [
    "#### Text Mining"
   ]
  },
  {
   "cell_type": "code",
   "execution_count": 8,
   "id": "cd5ee520-a819-428f-adf2-3b34d09d800f",
   "metadata": {},
   "outputs": [],
   "source": [
    "with open('textmining.txt','r',encoding='utf-8') as file:\n",
    "    content = file.read()"
   ]
  },
  {
   "cell_type": "code",
   "execution_count": 9,
   "id": "28a44329-9505-4514-9af7-538dcdf6cbf1",
   "metadata": {},
   "outputs": [
    {
     "name": "stdout",
     "output_type": "stream",
     "text": [
      "artificial intelligence (AI), the ability of a digital computer or computer-controlled robot to perform tasks commonly associated with intelligent beings. The term is frequently applied to the project of developing systems endowed with the intellectual processes characteristic of humans, such as the ability to reason, discover meaning, generalize, or learn from past experience. Since their development in the 1940s, digital computers have been programmed to carry out very complex tasks—such as discovering proofs for mathematical theorems or playing chess—with great proficiency. Despite continuing advances in computer processing speed and memory capacity, there are as yet no programs that can match full human flexibility over wider domains or in tasks requiring much everyday knowledge. On the other hand, some programs have attained the performance levels of human experts and professionals in executing certain specific tasks, so that artificial intelligence in this limited sense is found in applications as diverse as medical diagnosis, computer search engines, voice or handwriting recognition, and chatbots.\n"
     ]
    }
   ],
   "source": [
    "print(content)"
   ]
  },
  {
   "cell_type": "code",
   "execution_count": 17,
   "id": "95dbaf4d-11f7-4494-a5dd-2b27777ed0a4",
   "metadata": {},
   "outputs": [
    {
     "name": "stdout",
     "output_type": "stream",
     "text": [
      "Defaulting to user installation because normal site-packages is not writeable\n",
      "Collecting pathlib\n",
      "  Downloading pathlib-1.0.1-py3-none-any.whl.metadata (5.1 kB)\n",
      "Downloading pathlib-1.0.1-py3-none-any.whl (14 kB)\n",
      "Installing collected packages: pathlib\n",
      "Successfully installed pathlib-1.0.1\n"
     ]
    }
   ],
   "source": [
    "#next method to open the file\n",
    "!pip install pathlib"
   ]
  },
  {
   "cell_type": "code",
   "execution_count": 24,
   "id": "5e5bf1d3-d92e-4c9f-b7e2-14e07f02b42c",
   "metadata": {},
   "outputs": [],
   "source": [
    "import pathlib\n",
    "import nltk"
   ]
  },
  {
   "cell_type": "code",
   "execution_count": 19,
   "id": "36b71351-e801-4a28-bfc2-a00476e84632",
   "metadata": {},
   "outputs": [],
   "source": [
    "from pathlib import Path"
   ]
  },
  {
   "cell_type": "code",
   "execution_count": 20,
   "id": "63ef5b23-cf92-4e77-ac48-65a46ee10f48",
   "metadata": {},
   "outputs": [],
   "source": [
    "content = Path('textmining.txt').read_text()"
   ]
  },
  {
   "cell_type": "code",
   "execution_count": 21,
   "id": "fc10e133-8834-4c5f-a12a-73ef20bfd180",
   "metadata": {},
   "outputs": [],
   "source": [
    "#Tokenization : every word lai token banaidinxa ra list ma lagera rakhxaa\n",
    "from nltk import word_tokenize"
   ]
  },
  {
   "cell_type": "code",
   "execution_count": 25,
   "id": "bc63b61e-f9ba-461f-8113-c9af3162745f",
   "metadata": {},
   "outputs": [
    {
     "name": "stderr",
     "output_type": "stream",
     "text": [
      "[nltk_data] Downloading package punkt_tab to\n",
      "[nltk_data]     C:\\Users\\admin\\AppData\\Roaming\\nltk_data...\n",
      "[nltk_data]   Unzipping tokenizers\\punkt_tab.zip.\n"
     ]
    },
    {
     "data": {
      "text/plain": [
       "True"
      ]
     },
     "execution_count": 25,
     "metadata": {},
     "output_type": "execute_result"
    }
   ],
   "source": [
    "nltk.download('punkt_tab')"
   ]
  },
  {
   "cell_type": "code",
   "execution_count": 26,
   "id": "f3c3aef7-d743-4138-a157-4a96cbe58f23",
   "metadata": {},
   "outputs": [
    {
     "name": "stdout",
     "output_type": "stream",
     "text": [
      "['artificial', 'intelligence', '(', 'AI', ')', ',', 'the', 'ability', 'of', 'a', 'digital', 'computer', 'or', 'computer-controlled', 'robot', 'to', 'perform', 'tasks', 'commonly', 'associated', 'with', 'intelligent', 'beings', '.', 'The', 'term', 'is', 'frequently', 'applied', 'to', 'the', 'project', 'of', 'developing', 'systems', 'endowed', 'with', 'the', 'intellectual', 'processes', 'characteristic', 'of', 'humans', ',', 'such', 'as', 'the', 'ability', 'to', 'reason', ',', 'discover', 'meaning', ',', 'generalize', ',', 'or', 'learn', 'from', 'past', 'experience', '.', 'Since', 'their', 'development', 'in', 'the', '1940s', ',', 'digital', 'computers', 'have', 'been', 'programmed', 'to', 'carry', 'out', 'very', 'complex', 'tasksâ€', '”', 'such', 'as', 'discovering', 'proofs', 'for', 'mathematical', 'theorems', 'or', 'playing', 'chessâ€', '”', 'with', 'great', 'proficiency', '.', 'Despite', 'continuing', 'advances', 'in', 'computer', 'processing', 'speed', 'and', 'memory', 'capacity', ',', 'there', 'are', 'as', 'yet', 'no', 'programs', 'that', 'can', 'match', 'full', 'human', 'flexibility', 'over', 'wider', 'domains', 'or', 'in', 'tasks', 'requiring', 'much', 'everyday', 'knowledge', '.', 'On', 'the', 'other', 'hand', ',', 'some', 'programs', 'have', 'attained', 'the', 'performance', 'levels', 'of', 'human', 'experts', 'and', 'professionals', 'in', 'executing', 'certain', 'specific', 'tasks', ',', 'so', 'that', 'artificial', 'intelligence', 'in', 'this', 'limited', 'sense', 'is', 'found', 'in', 'applications', 'as', 'diverse', 'as', 'medical', 'diagnosis', ',', 'computer', 'search', 'engines', ',', 'voice', 'or', 'handwriting', 'recognition', ',', 'and', 'chatbots', '.']\n"
     ]
    }
   ],
   "source": [
    "tokens = word_tokenize(content)\n",
    "print(tokens)"
   ]
  },
  {
   "cell_type": "code",
   "execution_count": 27,
   "id": "60d9f1ab-8e11-48b0-8fa9-22924f4deaf7",
   "metadata": {},
   "outputs": [
    {
     "data": {
      "text/plain": [
       "['artificial',\n",
       " 'intelligence',\n",
       " '(AI),',\n",
       " 'the',\n",
       " 'ability',\n",
       " 'of',\n",
       " 'a',\n",
       " 'digital',\n",
       " 'computer',\n",
       " 'or',\n",
       " 'computer-controlled',\n",
       " 'robot',\n",
       " 'to',\n",
       " 'perform',\n",
       " 'tasks',\n",
       " 'commonly',\n",
       " 'associated',\n",
       " 'with',\n",
       " 'intelligent',\n",
       " 'beings.',\n",
       " 'The',\n",
       " 'term',\n",
       " 'is',\n",
       " 'frequently',\n",
       " 'applied',\n",
       " 'to',\n",
       " 'the',\n",
       " 'project',\n",
       " 'of',\n",
       " 'developing',\n",
       " 'systems',\n",
       " 'endowed',\n",
       " 'with',\n",
       " 'the',\n",
       " 'intellectual',\n",
       " 'processes',\n",
       " 'characteristic',\n",
       " 'of',\n",
       " 'humans,',\n",
       " 'such',\n",
       " 'as',\n",
       " 'the',\n",
       " 'ability',\n",
       " 'to',\n",
       " 'reason,',\n",
       " 'discover',\n",
       " 'meaning,',\n",
       " 'generalize,',\n",
       " 'or',\n",
       " 'learn',\n",
       " 'from',\n",
       " 'past',\n",
       " 'experience.',\n",
       " 'Since',\n",
       " 'their',\n",
       " 'development',\n",
       " 'in',\n",
       " 'the',\n",
       " '1940s,',\n",
       " 'digital',\n",
       " 'computers',\n",
       " 'have',\n",
       " 'been',\n",
       " 'programmed',\n",
       " 'to',\n",
       " 'carry',\n",
       " 'out',\n",
       " 'very',\n",
       " 'complex',\n",
       " 'tasksâ€”such',\n",
       " 'as',\n",
       " 'discovering',\n",
       " 'proofs',\n",
       " 'for',\n",
       " 'mathematical',\n",
       " 'theorems',\n",
       " 'or',\n",
       " 'playing',\n",
       " 'chessâ€”with',\n",
       " 'great',\n",
       " 'proficiency.',\n",
       " 'Despite',\n",
       " 'continuing',\n",
       " 'advances',\n",
       " 'in',\n",
       " 'computer',\n",
       " 'processing',\n",
       " 'speed',\n",
       " 'and',\n",
       " 'memory',\n",
       " 'capacity,',\n",
       " 'there',\n",
       " 'are',\n",
       " 'as',\n",
       " 'yet',\n",
       " 'no',\n",
       " 'programs',\n",
       " 'that',\n",
       " 'can',\n",
       " 'match',\n",
       " 'full',\n",
       " 'human',\n",
       " 'flexibility',\n",
       " 'over',\n",
       " 'wider',\n",
       " 'domains',\n",
       " 'or',\n",
       " 'in',\n",
       " 'tasks',\n",
       " 'requiring',\n",
       " 'much',\n",
       " 'everyday',\n",
       " 'knowledge.',\n",
       " 'On',\n",
       " 'the',\n",
       " 'other',\n",
       " 'hand,',\n",
       " 'some',\n",
       " 'programs',\n",
       " 'have',\n",
       " 'attained',\n",
       " 'the',\n",
       " 'performance',\n",
       " 'levels',\n",
       " 'of',\n",
       " 'human',\n",
       " 'experts',\n",
       " 'and',\n",
       " 'professionals',\n",
       " 'in',\n",
       " 'executing',\n",
       " 'certain',\n",
       " 'specific',\n",
       " 'tasks,',\n",
       " 'so',\n",
       " 'that',\n",
       " 'artificial',\n",
       " 'intelligence',\n",
       " 'in',\n",
       " 'this',\n",
       " 'limited',\n",
       " 'sense',\n",
       " 'is',\n",
       " 'found',\n",
       " 'in',\n",
       " 'applications',\n",
       " 'as',\n",
       " 'diverse',\n",
       " 'as',\n",
       " 'medical',\n",
       " 'diagnosis,',\n",
       " 'computer',\n",
       " 'search',\n",
       " 'engines,',\n",
       " 'voice',\n",
       " 'or',\n",
       " 'handwriting',\n",
       " 'recognition,',\n",
       " 'and',\n",
       " 'chatbots.']"
      ]
     },
     "execution_count": 27,
     "metadata": {},
     "output_type": "execute_result"
    }
   ],
   "source": [
    "tokens = content.split()\n",
    "tokens"
   ]
  },
  {
   "cell_type": "code",
   "execution_count": 32,
   "id": "a5f701cc-643c-4d7c-9945-dcb952ef1986",
   "metadata": {},
   "outputs": [
    {
     "name": "stdout",
     "output_type": "stream",
     "text": [
      "<FreqDist with 120 samples and 160 outcomes>\n"
     ]
    }
   ],
   "source": [
    "#Most Frequent\n",
    "from nltk.probability import FreqDist\n",
    "frequency=FreqDist(tokens)\n",
    "print(frequency)"
   ]
  },
  {
   "cell_type": "code",
   "execution_count": null,
   "id": "82097089-c322-4757-a251-e9d002639557",
   "metadata": {},
   "outputs": [],
   "source": [
    "#here in the above output out of 59 outcomes 105 are unique"
   ]
  },
  {
   "cell_type": "code",
   "execution_count": 35,
   "id": "98b1b114-6bd4-4df7-81c5-562647034079",
   "metadata": {},
   "outputs": [
    {
     "data": {
      "text/plain": [
       "[('the', 7), ('in', 6), ('or', 5), ('as', 5), ('of', 4)]"
      ]
     },
     "execution_count": 35,
     "metadata": {},
     "output_type": "execute_result"
    }
   ],
   "source": [
    "frequency.most_common(5)"
   ]
  },
  {
   "cell_type": "code",
   "execution_count": 34,
   "id": "a936f515-4994-4c21-b555-6b4a1a31b179",
   "metadata": {},
   "outputs": [
    {
     "data": {
      "text/plain": [
       "[('the', 7),\n",
       " ('in', 6),\n",
       " ('or', 5),\n",
       " ('as', 5),\n",
       " ('of', 4),\n",
       " ('to', 4),\n",
       " ('computer', 3),\n",
       " ('and', 3),\n",
       " ('artificial', 2),\n",
       " ('intelligence', 2)]"
      ]
     },
     "execution_count": 34,
     "metadata": {},
     "output_type": "execute_result"
    }
   ],
   "source": [
    "frequency.most_common(10)"
   ]
  },
  {
   "cell_type": "code",
   "execution_count": 36,
   "id": "c7f0b104-64fe-451d-8b84-3dde43efb14c",
   "metadata": {},
   "outputs": [],
   "source": [
    "#Punctaution removal\n",
    "import string"
   ]
  },
  {
   "cell_type": "code",
   "execution_count": 37,
   "id": "2dfb50ee-e41c-43c4-bea8-db77a17adec9",
   "metadata": {},
   "outputs": [
    {
     "data": {
      "text/plain": [
       "'!\"#$%&\\'()*+,-./:;<=>?@[\\\\]^_`{|}~'"
      ]
     },
     "execution_count": 37,
     "metadata": {},
     "output_type": "execute_result"
    }
   ],
   "source": [
    "string.punctuation # yesma sabai punctuation haru stored hunxa"
   ]
  },
  {
   "cell_type": "code",
   "execution_count": 46,
   "id": "98cf85dc-ef74-400e-af9a-e605e194c1bd",
   "metadata": {},
   "outputs": [],
   "source": [
    "\n",
    "translator = str.maketrans('','',string.punctuation) \n",
    "after_content =content.translate(translator)\n",
    "#if the liyako token chai string .punctuation ma xa vanyae teslaichai"
   ]
  },
  {
   "cell_type": "code",
   "execution_count": 47,
   "id": "d18ede20-e90b-47ac-ab65-79e68ab19d1c",
   "metadata": {},
   "outputs": [
    {
     "data": {
      "text/plain": [
       "'artificial intelligence AI the ability of a digital computer or computercontrolled robot to perform tasks commonly associated with intelligent beings The term is frequently applied to the project of developing systems endowed with the intellectual processes characteristic of humans such as the ability to reason discover meaning generalize or learn from past experience Since their development in the 1940s digital computers have been programmed to carry out very complex tasksâ€”such as discovering proofs for mathematical theorems or playing chessâ€”with great proficiency Despite continuing advances in computer processing speed and memory capacity there are as yet no programs that can match full human flexibility over wider domains or in tasks requiring much everyday knowledge On the other hand some programs have attained the performance levels of human experts and professionals in executing certain specific tasks so that artificial intelligence in this limited sense is found in applications as diverse as medical diagnosis computer search engines voice or handwriting recognition and chatbots'"
      ]
     },
     "execution_count": 47,
     "metadata": {},
     "output_type": "execute_result"
    }
   ],
   "source": [
    "after_content"
   ]
  },
  {
   "cell_type": "code",
   "execution_count": null,
   "id": "789af522-cd64-40dd-9ce7-cf3863a59ed1",
   "metadata": {},
   "outputs": [],
   "source": [
    "/n is the indication of the new line and all the other punctuation are removed from herr\n",
    "#after using content.translator"
   ]
  },
  {
   "cell_type": "code",
   "execution_count": null,
   "id": "516293f7-999d-4933-8487-be6ecb7bc6f3",
   "metadata": {},
   "outputs": [],
   "source": [
    "#stopwords: most occuring word haru chahexa bhane ,preposition ra conjuction haru\n",
    "a, an, the , of, but"
   ]
  },
  {
   "cell_type": "code",
   "execution_count": 49,
   "id": "703ce2f2-e72e-43ad-b819-3d7f76b6f1f7",
   "metadata": {},
   "outputs": [],
   "source": [
    "import nltk.corpus\n",
    "#corpus bhaneko collection of documents\n",
    "#stopword use garna import corpus garna parxa"
   ]
  },
  {
   "cell_type": "code",
   "execution_count": 55,
   "id": "ba0d6b95-aa83-41b4-a6c8-f429b791693e",
   "metadata": {},
   "outputs": [],
   "source": [
    "from nltk.corpus import stopwords"
   ]
  },
  {
   "cell_type": "code",
   "execution_count": 57,
   "id": "ead94614-8969-4675-8361-0a3273ea8e0c",
   "metadata": {},
   "outputs": [
    {
     "name": "stderr",
     "output_type": "stream",
     "text": [
      "[nltk_data] Downloading package stopwords to\n",
      "[nltk_data]     C:\\Users\\admin\\AppData\\Roaming\\nltk_data...\n",
      "[nltk_data]   Unzipping corpora\\stopwords.zip.\n"
     ]
    },
    {
     "data": {
      "text/plain": [
       "True"
      ]
     },
     "execution_count": 57,
     "metadata": {},
     "output_type": "execute_result"
    }
   ],
   "source": [
    "nltk.download('stopwords')"
   ]
  },
  {
   "cell_type": "code",
   "execution_count": 58,
   "id": "31ea9d7a-5d73-426e-9067-e38e820d7dd7",
   "metadata": {},
   "outputs": [],
   "source": [
    "stop_words = set(stopwords.words('english'))"
   ]
  },
  {
   "cell_type": "code",
   "execution_count": null,
   "id": "98592719-af8b-4223-bfef-f1eb20849fba",
   "metadata": {},
   "outputs": [],
   "source": [
    "#purpose anusar stopwordas haru use garne"
   ]
  },
  {
   "cell_type": "code",
   "execution_count": 59,
   "id": "0a96b4fc-c442-4262-9e53-17e371de4693",
   "metadata": {},
   "outputs": [
    {
     "data": {
      "text/plain": [
       "{'a',\n",
       " 'about',\n",
       " 'above',\n",
       " 'after',\n",
       " 'again',\n",
       " 'against',\n",
       " 'ain',\n",
       " 'all',\n",
       " 'am',\n",
       " 'an',\n",
       " 'and',\n",
       " 'any',\n",
       " 'are',\n",
       " 'aren',\n",
       " \"aren't\",\n",
       " 'as',\n",
       " 'at',\n",
       " 'be',\n",
       " 'because',\n",
       " 'been',\n",
       " 'before',\n",
       " 'being',\n",
       " 'below',\n",
       " 'between',\n",
       " 'both',\n",
       " 'but',\n",
       " 'by',\n",
       " 'can',\n",
       " 'couldn',\n",
       " \"couldn't\",\n",
       " 'd',\n",
       " 'did',\n",
       " 'didn',\n",
       " \"didn't\",\n",
       " 'do',\n",
       " 'does',\n",
       " 'doesn',\n",
       " \"doesn't\",\n",
       " 'doing',\n",
       " 'don',\n",
       " \"don't\",\n",
       " 'down',\n",
       " 'during',\n",
       " 'each',\n",
       " 'few',\n",
       " 'for',\n",
       " 'from',\n",
       " 'further',\n",
       " 'had',\n",
       " 'hadn',\n",
       " \"hadn't\",\n",
       " 'has',\n",
       " 'hasn',\n",
       " \"hasn't\",\n",
       " 'have',\n",
       " 'haven',\n",
       " \"haven't\",\n",
       " 'having',\n",
       " 'he',\n",
       " \"he'd\",\n",
       " \"he'll\",\n",
       " \"he's\",\n",
       " 'her',\n",
       " 'here',\n",
       " 'hers',\n",
       " 'herself',\n",
       " 'him',\n",
       " 'himself',\n",
       " 'his',\n",
       " 'how',\n",
       " 'i',\n",
       " \"i'd\",\n",
       " \"i'll\",\n",
       " \"i'm\",\n",
       " \"i've\",\n",
       " 'if',\n",
       " 'in',\n",
       " 'into',\n",
       " 'is',\n",
       " 'isn',\n",
       " \"isn't\",\n",
       " 'it',\n",
       " \"it'd\",\n",
       " \"it'll\",\n",
       " \"it's\",\n",
       " 'its',\n",
       " 'itself',\n",
       " 'just',\n",
       " 'll',\n",
       " 'm',\n",
       " 'ma',\n",
       " 'me',\n",
       " 'mightn',\n",
       " \"mightn't\",\n",
       " 'more',\n",
       " 'most',\n",
       " 'mustn',\n",
       " \"mustn't\",\n",
       " 'my',\n",
       " 'myself',\n",
       " 'needn',\n",
       " \"needn't\",\n",
       " 'no',\n",
       " 'nor',\n",
       " 'not',\n",
       " 'now',\n",
       " 'o',\n",
       " 'of',\n",
       " 'off',\n",
       " 'on',\n",
       " 'once',\n",
       " 'only',\n",
       " 'or',\n",
       " 'other',\n",
       " 'our',\n",
       " 'ours',\n",
       " 'ourselves',\n",
       " 'out',\n",
       " 'over',\n",
       " 'own',\n",
       " 're',\n",
       " 's',\n",
       " 'same',\n",
       " 'shan',\n",
       " \"shan't\",\n",
       " 'she',\n",
       " \"she'd\",\n",
       " \"she'll\",\n",
       " \"she's\",\n",
       " 'should',\n",
       " \"should've\",\n",
       " 'shouldn',\n",
       " \"shouldn't\",\n",
       " 'so',\n",
       " 'some',\n",
       " 'such',\n",
       " 't',\n",
       " 'than',\n",
       " 'that',\n",
       " \"that'll\",\n",
       " 'the',\n",
       " 'their',\n",
       " 'theirs',\n",
       " 'them',\n",
       " 'themselves',\n",
       " 'then',\n",
       " 'there',\n",
       " 'these',\n",
       " 'they',\n",
       " \"they'd\",\n",
       " \"they'll\",\n",
       " \"they're\",\n",
       " \"they've\",\n",
       " 'this',\n",
       " 'those',\n",
       " 'through',\n",
       " 'to',\n",
       " 'too',\n",
       " 'under',\n",
       " 'until',\n",
       " 'up',\n",
       " 've',\n",
       " 'very',\n",
       " 'was',\n",
       " 'wasn',\n",
       " \"wasn't\",\n",
       " 'we',\n",
       " \"we'd\",\n",
       " \"we'll\",\n",
       " \"we're\",\n",
       " \"we've\",\n",
       " 'were',\n",
       " 'weren',\n",
       " \"weren't\",\n",
       " 'what',\n",
       " 'when',\n",
       " 'where',\n",
       " 'which',\n",
       " 'while',\n",
       " 'who',\n",
       " 'whom',\n",
       " 'why',\n",
       " 'will',\n",
       " 'with',\n",
       " 'won',\n",
       " \"won't\",\n",
       " 'wouldn',\n",
       " \"wouldn't\",\n",
       " 'y',\n",
       " 'you',\n",
       " \"you'd\",\n",
       " \"you'll\",\n",
       " \"you're\",\n",
       " \"you've\",\n",
       " 'your',\n",
       " 'yours',\n",
       " 'yourself',\n",
       " 'yourselves'}"
      ]
     },
     "execution_count": 59,
     "metadata": {},
     "output_type": "execute_result"
    }
   ],
   "source": [
    "stop_words"
   ]
  },
  {
   "cell_type": "code",
   "execution_count": 71,
   "id": "efdca900-ca79-48c6-8e77-9f4e36706e9b",
   "metadata": {},
   "outputs": [],
   "source": [
    "#Stopwords Removal\n",
    "import nltk.corpus"
   ]
  },
  {
   "cell_type": "code",
   "execution_count": 72,
   "id": "741e3e8f-6e2a-4790-97cf-1eefdedb0d02",
   "metadata": {},
   "outputs": [],
   "source": [
    "from nltk.corpus import stopwords"
   ]
  },
  {
   "cell_type": "code",
   "execution_count": 73,
   "id": "b5787a12-5ac7-4621-bf0e-ede2ad8f09ac",
   "metadata": {},
   "outputs": [
    {
     "name": "stderr",
     "output_type": "stream",
     "text": [
      "[nltk_data] Downloading package stopwords to\n",
      "[nltk_data]     C:\\Users\\admin\\AppData\\Roaming\\nltk_data...\n",
      "[nltk_data]   Package stopwords is already up-to-date!\n"
     ]
    },
    {
     "data": {
      "text/plain": [
       "True"
      ]
     },
     "execution_count": 73,
     "metadata": {},
     "output_type": "execute_result"
    }
   ],
   "source": [
    "nltk.download('stopwords')"
   ]
  },
  {
   "cell_type": "code",
   "execution_count": 74,
   "id": "a20bf417-eb8b-4928-94a5-9978e7bdebe8",
   "metadata": {},
   "outputs": [],
   "source": [
    "stop_words = set(stopwords.words('english'))"
   ]
  },
  {
   "cell_type": "code",
   "execution_count": 75,
   "id": "b5508475-a29f-43bc-9f58-fcdb10a97080",
   "metadata": {},
   "outputs": [
    {
     "data": {
      "text/plain": [
       "{'a',\n",
       " 'about',\n",
       " 'above',\n",
       " 'after',\n",
       " 'again',\n",
       " 'against',\n",
       " 'ain',\n",
       " 'all',\n",
       " 'am',\n",
       " 'an',\n",
       " 'and',\n",
       " 'any',\n",
       " 'are',\n",
       " 'aren',\n",
       " \"aren't\",\n",
       " 'as',\n",
       " 'at',\n",
       " 'be',\n",
       " 'because',\n",
       " 'been',\n",
       " 'before',\n",
       " 'being',\n",
       " 'below',\n",
       " 'between',\n",
       " 'both',\n",
       " 'but',\n",
       " 'by',\n",
       " 'can',\n",
       " 'couldn',\n",
       " \"couldn't\",\n",
       " 'd',\n",
       " 'did',\n",
       " 'didn',\n",
       " \"didn't\",\n",
       " 'do',\n",
       " 'does',\n",
       " 'doesn',\n",
       " \"doesn't\",\n",
       " 'doing',\n",
       " 'don',\n",
       " \"don't\",\n",
       " 'down',\n",
       " 'during',\n",
       " 'each',\n",
       " 'few',\n",
       " 'for',\n",
       " 'from',\n",
       " 'further',\n",
       " 'had',\n",
       " 'hadn',\n",
       " \"hadn't\",\n",
       " 'has',\n",
       " 'hasn',\n",
       " \"hasn't\",\n",
       " 'have',\n",
       " 'haven',\n",
       " \"haven't\",\n",
       " 'having',\n",
       " 'he',\n",
       " \"he'd\",\n",
       " \"he'll\",\n",
       " \"he's\",\n",
       " 'her',\n",
       " 'here',\n",
       " 'hers',\n",
       " 'herself',\n",
       " 'him',\n",
       " 'himself',\n",
       " 'his',\n",
       " 'how',\n",
       " 'i',\n",
       " \"i'd\",\n",
       " \"i'll\",\n",
       " \"i'm\",\n",
       " \"i've\",\n",
       " 'if',\n",
       " 'in',\n",
       " 'into',\n",
       " 'is',\n",
       " 'isn',\n",
       " \"isn't\",\n",
       " 'it',\n",
       " \"it'd\",\n",
       " \"it'll\",\n",
       " \"it's\",\n",
       " 'its',\n",
       " 'itself',\n",
       " 'just',\n",
       " 'll',\n",
       " 'm',\n",
       " 'ma',\n",
       " 'me',\n",
       " 'mightn',\n",
       " \"mightn't\",\n",
       " 'more',\n",
       " 'most',\n",
       " 'mustn',\n",
       " \"mustn't\",\n",
       " 'my',\n",
       " 'myself',\n",
       " 'needn',\n",
       " \"needn't\",\n",
       " 'no',\n",
       " 'nor',\n",
       " 'not',\n",
       " 'now',\n",
       " 'o',\n",
       " 'of',\n",
       " 'off',\n",
       " 'on',\n",
       " 'once',\n",
       " 'only',\n",
       " 'or',\n",
       " 'other',\n",
       " 'our',\n",
       " 'ours',\n",
       " 'ourselves',\n",
       " 'out',\n",
       " 'over',\n",
       " 'own',\n",
       " 're',\n",
       " 's',\n",
       " 'same',\n",
       " 'shan',\n",
       " \"shan't\",\n",
       " 'she',\n",
       " \"she'd\",\n",
       " \"she'll\",\n",
       " \"she's\",\n",
       " 'should',\n",
       " \"should've\",\n",
       " 'shouldn',\n",
       " \"shouldn't\",\n",
       " 'so',\n",
       " 'some',\n",
       " 'such',\n",
       " 't',\n",
       " 'than',\n",
       " 'that',\n",
       " \"that'll\",\n",
       " 'the',\n",
       " 'their',\n",
       " 'theirs',\n",
       " 'them',\n",
       " 'themselves',\n",
       " 'then',\n",
       " 'there',\n",
       " 'these',\n",
       " 'they',\n",
       " \"they'd\",\n",
       " \"they'll\",\n",
       " \"they're\",\n",
       " \"they've\",\n",
       " 'this',\n",
       " 'those',\n",
       " 'through',\n",
       " 'to',\n",
       " 'too',\n",
       " 'under',\n",
       " 'until',\n",
       " 'up',\n",
       " 've',\n",
       " 'very',\n",
       " 'was',\n",
       " 'wasn',\n",
       " \"wasn't\",\n",
       " 'we',\n",
       " \"we'd\",\n",
       " \"we'll\",\n",
       " \"we're\",\n",
       " \"we've\",\n",
       " 'were',\n",
       " 'weren',\n",
       " \"weren't\",\n",
       " 'what',\n",
       " 'when',\n",
       " 'where',\n",
       " 'which',\n",
       " 'while',\n",
       " 'who',\n",
       " 'whom',\n",
       " 'why',\n",
       " 'will',\n",
       " 'with',\n",
       " 'won',\n",
       " \"won't\",\n",
       " 'wouldn',\n",
       " \"wouldn't\",\n",
       " 'y',\n",
       " 'you',\n",
       " \"you'd\",\n",
       " \"you'll\",\n",
       " \"you're\",\n",
       " \"you've\",\n",
       " 'your',\n",
       " 'yours',\n",
       " 'yourself',\n",
       " 'yourselves'}"
      ]
     },
     "execution_count": 75,
     "metadata": {},
     "output_type": "execute_result"
    }
   ],
   "source": [
    "stop_words"
   ]
  },
  {
   "cell_type": "code",
   "execution_count": 77,
   "id": "31e1d738-6490-4bdb-89f4-d065f6054da1",
   "metadata": {},
   "outputs": [],
   "source": [
    "after_stopwords=[]\n",
    "for word in tokens:\n",
    "    if word not in stop_words:\n",
    "        after_stopwords.append(word)"
   ]
  },
  {
   "cell_type": "code",
   "execution_count": 78,
   "id": "b2d4fa83-6b51-4845-a36f-bd492c368625",
   "metadata": {},
   "outputs": [
    {
     "data": {
      "text/plain": [
       "['artificial',\n",
       " 'intelligence',\n",
       " '(AI),',\n",
       " 'ability',\n",
       " 'digital',\n",
       " 'computer',\n",
       " 'computer-controlled',\n",
       " 'robot',\n",
       " 'perform',\n",
       " 'tasks',\n",
       " 'commonly',\n",
       " 'associated',\n",
       " 'intelligent',\n",
       " 'beings.',\n",
       " 'The',\n",
       " 'term',\n",
       " 'frequently',\n",
       " 'applied',\n",
       " 'project',\n",
       " 'developing',\n",
       " 'systems',\n",
       " 'endowed',\n",
       " 'intellectual',\n",
       " 'processes',\n",
       " 'characteristic',\n",
       " 'humans,',\n",
       " 'ability',\n",
       " 'reason,',\n",
       " 'discover',\n",
       " 'meaning,',\n",
       " 'generalize,',\n",
       " 'learn',\n",
       " 'past',\n",
       " 'experience.',\n",
       " 'Since',\n",
       " 'development',\n",
       " '1940s,',\n",
       " 'digital',\n",
       " 'computers',\n",
       " 'programmed',\n",
       " 'carry',\n",
       " 'complex',\n",
       " 'tasksâ€”such',\n",
       " 'discovering',\n",
       " 'proofs',\n",
       " 'mathematical',\n",
       " 'theorems',\n",
       " 'playing',\n",
       " 'chessâ€”with',\n",
       " 'great',\n",
       " 'proficiency.',\n",
       " 'Despite',\n",
       " 'continuing',\n",
       " 'advances',\n",
       " 'computer',\n",
       " 'processing',\n",
       " 'speed',\n",
       " 'memory',\n",
       " 'capacity,',\n",
       " 'yet',\n",
       " 'programs',\n",
       " 'match',\n",
       " 'full',\n",
       " 'human',\n",
       " 'flexibility',\n",
       " 'wider',\n",
       " 'domains',\n",
       " 'tasks',\n",
       " 'requiring',\n",
       " 'much',\n",
       " 'everyday',\n",
       " 'knowledge.',\n",
       " 'On',\n",
       " 'hand,',\n",
       " 'programs',\n",
       " 'attained',\n",
       " 'performance',\n",
       " 'levels',\n",
       " 'human',\n",
       " 'experts',\n",
       " 'professionals',\n",
       " 'executing',\n",
       " 'certain',\n",
       " 'specific',\n",
       " 'tasks,',\n",
       " 'artificial',\n",
       " 'intelligence',\n",
       " 'limited',\n",
       " 'sense',\n",
       " 'found',\n",
       " 'applications',\n",
       " 'diverse',\n",
       " 'medical',\n",
       " 'diagnosis,',\n",
       " 'computer',\n",
       " 'search',\n",
       " 'engines,',\n",
       " 'voice',\n",
       " 'handwriting',\n",
       " 'recognition,',\n",
       " 'chatbots.']"
      ]
     },
     "execution_count": 78,
     "metadata": {},
     "output_type": "execute_result"
    }
   ],
   "source": [
    "after_stopwords"
   ]
  },
  {
   "cell_type": "code",
   "execution_count": 82,
   "id": "7c3a36b9-1175-47f2-9d5e-12db31c2f458",
   "metadata": {},
   "outputs": [],
   "source": [
    "#yo data paragraph ma chhaiyo bhanej join garxa parxa\n",
    "final_content = '  '.join(after_stopwords)"
   ]
  },
  {
   "cell_type": "code",
   "execution_count": 83,
   "id": "5ab75cee-c61c-408e-b382-7122c8c5e652",
   "metadata": {},
   "outputs": [
    {
     "data": {
      "text/plain": [
       "'artificial  intelligence  (AI),  ability  digital  computer  computer-controlled  robot  perform  tasks  commonly  associated  intelligent  beings.  The  term  frequently  applied  project  developing  systems  endowed  intellectual  processes  characteristic  humans,  ability  reason,  discover  meaning,  generalize,  learn  past  experience.  Since  development  1940s,  digital  computers  programmed  carry  complex  tasksâ€”such  discovering  proofs  mathematical  theorems  playing  chessâ€”with  great  proficiency.  Despite  continuing  advances  computer  processing  speed  memory  capacity,  yet  programs  match  full  human  flexibility  wider  domains  tasks  requiring  much  everyday  knowledge.  On  hand,  programs  attained  performance  levels  human  experts  professionals  executing  certain  specific  tasks,  artificial  intelligence  limited  sense  found  applications  diverse  medical  diagnosis,  computer  search  engines,  voice  handwriting  recognition,  chatbots.'"
      ]
     },
     "execution_count": 83,
     "metadata": {},
     "output_type": "execute_result"
    }
   ],
   "source": [
    "final_content"
   ]
  },
  {
   "cell_type": "code",
   "execution_count": 84,
   "id": "0fb5c080-6788-466e-be82-2d137764f4ec",
   "metadata": {},
   "outputs": [],
   "source": [
    "#List Comprehension\n",
    "number = [2,3,4,5,6]"
   ]
  },
  {
   "cell_type": "code",
   "execution_count": 88,
   "id": "5c542560-a66b-4faa-96e1-a9ac934bfb9b",
   "metadata": {},
   "outputs": [],
   "source": [
    "\n",
    "sq_list=[]\n",
    "for x in number:\n",
    "    sq = x*x\n",
    "    sq_list.append(sq)"
   ]
  },
  {
   "cell_type": "code",
   "execution_count": 89,
   "id": "6ddcf3a6-47e3-4424-b20a-c18776e2e87f",
   "metadata": {},
   "outputs": [
    {
     "data": {
      "text/plain": [
       "[4, 9, 16, 25, 36]"
      ]
     },
     "execution_count": 89,
     "metadata": {},
     "output_type": "execute_result"
    }
   ],
   "source": [
    "sq_list"
   ]
  },
  {
   "cell_type": "code",
   "execution_count": 90,
   "id": "349b2283-87a2-452d-9958-31f9d3ed77be",
   "metadata": {},
   "outputs": [],
   "source": [
    "#yo sab autai line ma garna sakinxa using list comprehensiom\n",
    "sq_list = [x**2 for x in number]"
   ]
  },
  {
   "cell_type": "code",
   "execution_count": 91,
   "id": "d18114d1-c398-4873-99af-ae8ed81f9209",
   "metadata": {},
   "outputs": [
    {
     "data": {
      "text/plain": [
       "[4, 9, 16, 25, 36]"
      ]
     },
     "execution_count": 91,
     "metadata": {},
     "output_type": "execute_result"
    }
   ],
   "source": [
    "sq_list"
   ]
  },
  {
   "cell_type": "code",
   "execution_count": null,
   "id": "1759b77c-8e5e-4473-b4c6-357ad84d69f0",
   "metadata": {},
   "outputs": [],
   "source": [
    "##assignment\n",
    "from spacy bata sabai repeat garne 5 ota operation garera aune from text mining documents"
   ]
  },
  {
   "cell_type": "code",
   "execution_count": null,
   "id": "afa192ca-6e19-4b23-9db2-fd10037bcfd7",
   "metadata": {},
   "outputs": [],
   "source": [
    "#stopwords ko for loop lai list comprehension ma kasari garne ta \n"
   ]
  },
  {
   "cell_type": "code",
   "execution_count": null,
   "id": "5bc419c5-1998-4980-a36b-c54438f1a362",
   "metadata": {},
   "outputs": [],
   "source": [
    "#assignment\n",
    "pip install spacy\n",
    "python -m spacy download en_core_web_sm\n",
    "#en vaneko englis language, sm means small"
   ]
  },
  {
   "cell_type": "code",
   "execution_count": null,
   "id": "64aa669c-b636-43b4-87c4-9e28463f1cea",
   "metadata": {},
   "outputs": [],
   "source": [
    "python -m spacy en_core_web_lg #ie lg means large ra large ko acuuracy high hunxa tara small ko garne ahile lai"
   ]
  },
  {
   "cell_type": "code",
   "execution_count": null,
   "id": "d14ee34b-c223-4154-93ab-1404ce7770cd",
   "metadata": {},
   "outputs": [],
   "source": []
  },
  {
   "cell_type": "code",
   "execution_count": null,
   "id": "2df12be1-8e69-459b-bdb1-086510510a13",
   "metadata": {},
   "outputs": [],
   "source": []
  },
  {
   "cell_type": "code",
   "execution_count": null,
   "id": "f5569400-273a-4bf9-927d-9325e0f6a13f",
   "metadata": {},
   "outputs": [],
   "source": []
  },
  {
   "cell_type": "code",
   "execution_count": null,
   "id": "c98c00b7-3526-41af-a85c-c1ef071e1f2f",
   "metadata": {},
   "outputs": [],
   "source": []
  }
 ],
 "metadata": {
  "kernelspec": {
   "display_name": "Python 3 (ipykernel)",
   "language": "python",
   "name": "python3"
  },
  "language_info": {
   "codemirror_mode": {
    "name": "ipython",
    "version": 3
   },
   "file_extension": ".py",
   "mimetype": "text/x-python",
   "name": "python",
   "nbconvert_exporter": "python",
   "pygments_lexer": "ipython3",
   "version": "3.13.3"
  }
 },
 "nbformat": 4,
 "nbformat_minor": 5
}
