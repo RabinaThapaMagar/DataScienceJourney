{
 "cells": [
  {
   "cell_type": "markdown",
   "id": "f20f6049-dd86-420c-92f5-3551dabc7999",
   "metadata": {},
   "source": [
    "### connect database with python"
   ]
  },
  {
   "cell_type": "code",
   "execution_count": 2,
   "id": "d21af05d-e640-4d82-b622-6d0041fd3baf",
   "metadata": {},
   "outputs": [
    {
     "name": "stdout",
     "output_type": "stream",
     "text": [
      "Defaulting to user installation because normal site-packages is not writeable\n",
      "Collecting pyodbc\n",
      "  Downloading pyodbc-5.2.0-cp313-cp313-win_amd64.whl.metadata (2.8 kB)\n",
      "Downloading pyodbc-5.2.0-cp313-cp313-win_amd64.whl (69 kB)\n",
      "Installing collected packages: pyodbc\n",
      "Successfully installed pyodbc-5.2.0\n",
      "Note: you may need to restart the kernel to use updated packages.\n"
     ]
    }
   ],
   "source": [
    "pip install pyodbc"
   ]
  },
  {
   "cell_type": "code",
   "execution_count": null,
   "id": "d17939c7-3978-446b-99f9-2a2aa34602fb",
   "metadata": {},
   "outputs": [],
   "source": [
    "#install odbc driver"
   ]
  },
  {
   "cell_type": "code",
   "execution_count": 3,
   "id": "cbe73a7d-6623-452c-a608-a708c060928a",
   "metadata": {},
   "outputs": [],
   "source": [
    "import pyodbc"
   ]
  },
  {
   "cell_type": "code",
   "execution_count": 4,
   "id": "f4aa8b98-991c-467e-a4c7-cac21cda175e",
   "metadata": {},
   "outputs": [
    {
     "name": "stdout",
     "output_type": "stream",
     "text": [
      "['SQL Server', 'Microsoft Access Driver (*.mdb, *.accdb)', 'Microsoft Excel Driver (*.xls, *.xlsx, *.xlsm, *.xlsb)', 'Microsoft Access Text Driver (*.txt, *.csv)', 'Microsoft Access dBASE Driver (*.dbf, *.ndx, *.mdx)', 'SQL Server Native Client RDA 11.0', 'ODBC Driver 17 for SQL Server', 'ODBC Driver 18 for SQL Server']\n"
     ]
    }
   ],
   "source": [
    "print(pyodbc.drivers())"
   ]
  },
  {
   "cell_type": "code",
   "execution_count": null,
   "id": "88b92954-6a27-4ec0-b2fc-58e3c00f196a",
   "metadata": {},
   "outputs": [],
   "source": [
    "#yeti kura chahinxa database lai python ma connect garna lai\n",
    "driver_name chahinxa: 'SQL SERVER'\n",
    "server_name chahinxa:'localhost\\SQLEXPRESS'\n",
    "database_name chahinxa:'office'"
   ]
  },
  {
   "cell_type": "code",
   "execution_count": 8,
   "id": "51724119-502e-4fe8-b95e-79b8a7b5c05a",
   "metadata": {},
   "outputs": [],
   "source": [
    "conn = pyodbc.connect('Driver={SQL Server};'\n",
    "                    'Server=localhost\\\\SQLEXPRESS;'\n",
    "                    'Database=office;'\n",
    "                    'Trusted_Connection=yes;')"
   ]
  },
  {
   "cell_type": "code",
   "execution_count": 9,
   "id": "b200eefc-b41e-4f21-906a-9dea557573f3",
   "metadata": {},
   "outputs": [
    {
     "data": {
      "text/plain": [
       "<pyodbc.Connection at 0x13f4d98bdf0>"
      ]
     },
     "execution_count": 9,
     "metadata": {},
     "output_type": "execute_result"
    }
   ],
   "source": [
    "conn"
   ]
  },
  {
   "cell_type": "code",
   "execution_count": 11,
   "id": "88b17fa1-66b1-47a8-8658-bf14494ae514",
   "metadata": {},
   "outputs": [],
   "source": [
    "import pandas as pd\n",
    "import pyodbc"
   ]
  },
  {
   "cell_type": "code",
   "execution_count": 17,
   "id": "f94728bb-ed46-4cc4-ba68-c2973d71ed0e",
   "metadata": {},
   "outputs": [
    {
     "name": "stderr",
     "output_type": "stream",
     "text": [
      "C:\\Users\\admin\\AppData\\Local\\Temp\\ipykernel_13688\\1347989688.py:1: UserWarning: pandas only supports SQLAlchemy connectable (engine/connection) or database string URI or sqlite3 DBAPI2 connection. Other DBAPI2 objects are not tested. Please consider using SQLAlchemy.\n",
      "  df = pd.read_sql('SELECT * FROM EMPLOYEE',conn)\n"
     ]
    },
    {
     "data": {
      "text/html": [
       "<div>\n",
       "<style scoped>\n",
       "    .dataframe tbody tr th:only-of-type {\n",
       "        vertical-align: middle;\n",
       "    }\n",
       "\n",
       "    .dataframe tbody tr th {\n",
       "        vertical-align: top;\n",
       "    }\n",
       "\n",
       "    .dataframe thead th {\n",
       "        text-align: right;\n",
       "    }\n",
       "</style>\n",
       "<table border=\"1\" class=\"dataframe\">\n",
       "  <thead>\n",
       "    <tr style=\"text-align: right;\">\n",
       "      <th></th>\n",
       "      <th>ID</th>\n",
       "      <th>NAME</th>\n",
       "      <th>ADDRESS</th>\n",
       "      <th>DEPART</th>\n",
       "      <th>SALARY</th>\n",
       "    </tr>\n",
       "  </thead>\n",
       "  <tbody>\n",
       "    <tr>\n",
       "      <th>0</th>\n",
       "      <td>101</td>\n",
       "      <td>Ram Bahadur</td>\n",
       "      <td>Pokhara</td>\n",
       "      <td>Sales</td>\n",
       "      <td>45000.0</td>\n",
       "    </tr>\n",
       "    <tr>\n",
       "      <th>1</th>\n",
       "      <td>102</td>\n",
       "      <td>Sita Devi</td>\n",
       "      <td>KTM</td>\n",
       "      <td>Market</td>\n",
       "      <td>55000.0</td>\n",
       "    </tr>\n",
       "    <tr>\n",
       "      <th>2</th>\n",
       "      <td>103</td>\n",
       "      <td>Hari Prasad</td>\n",
       "      <td>Morang</td>\n",
       "      <td>CS</td>\n",
       "      <td>60000.0</td>\n",
       "    </tr>\n",
       "    <tr>\n",
       "      <th>3</th>\n",
       "      <td>104</td>\n",
       "      <td>Gita Kumari</td>\n",
       "      <td>Sindhuli</td>\n",
       "      <td>Sales</td>\n",
       "      <td>48000.0</td>\n",
       "    </tr>\n",
       "    <tr>\n",
       "      <th>4</th>\n",
       "      <td>105</td>\n",
       "      <td>Shyam Lal</td>\n",
       "      <td>Pokhara</td>\n",
       "      <td>Market</td>\n",
       "      <td>52000.0</td>\n",
       "    </tr>\n",
       "  </tbody>\n",
       "</table>\n",
       "</div>"
      ],
      "text/plain": [
       "    ID         NAME   ADDRESS  DEPART   SALARY\n",
       "0  101  Ram Bahadur   Pokhara   Sales  45000.0\n",
       "1  102    Sita Devi       KTM  Market  55000.0\n",
       "2  103  Hari Prasad    Morang      CS  60000.0\n",
       "3  104  Gita Kumari  Sindhuli   Sales  48000.0\n",
       "4  105    Shyam Lal   Pokhara  Market  52000.0"
      ]
     },
     "execution_count": 17,
     "metadata": {},
     "output_type": "execute_result"
    }
   ],
   "source": [
    "df = pd.read_sql('SELECT * FROM EMPLOYEE',conn)\n",
    "df.head()"
   ]
  },
  {
   "cell_type": "code",
   "execution_count": null,
   "id": "ccfba90d-4636-4af8-920c-4c00b663b5a5",
   "metadata": {},
   "outputs": [],
   "source": [
    "#df vaneko dataframe banisakyo so dataframe ko operation haru lagauna milxa"
   ]
  },
  {
   "cell_type": "code",
   "execution_count": null,
   "id": "8372a2f9-8cdc-45dc-afe3-4e4bf73bf9ab",
   "metadata": {},
   "outputs": [],
   "source": [
    "#python ko code bata database ma insert pani garna milxa table ma"
   ]
  },
  {
   "cell_type": "code",
   "execution_count": null,
   "id": "e90e50d7-ecf4-4943-8125-579198a68b32",
   "metadata": {},
   "outputs": [],
   "source": [
    "#transition huda database ma gayera basxa so aba python bata database ma vako data lai load garera kaam garna sakxam"
   ]
  },
  {
   "cell_type": "code",
   "execution_count": null,
   "id": "ea1fc17a-2549-4fa6-8cef-e39dbccb56ab",
   "metadata": {},
   "outputs": [],
   "source": []
  },
  {
   "cell_type": "code",
   "execution_count": null,
   "id": "895620e5-2d1b-4161-b5b1-afe903de154e",
   "metadata": {},
   "outputs": [],
   "source": []
  },
  {
   "cell_type": "code",
   "execution_count": null,
   "id": "1e29bb8f-074d-4112-b7c6-6d9025865da7",
   "metadata": {},
   "outputs": [],
   "source": []
  },
  {
   "cell_type": "code",
   "execution_count": null,
   "id": "b58ab8f6-3e0a-4f42-a69d-ac9a302466c2",
   "metadata": {},
   "outputs": [],
   "source": []
  },
  {
   "cell_type": "code",
   "execution_count": null,
   "id": "36652427-3de6-4719-989a-81e50ed6b819",
   "metadata": {},
   "outputs": [],
   "source": []
  },
  {
   "cell_type": "code",
   "execution_count": null,
   "id": "5c44c052-0ed8-49bc-92d3-4c20ac2ff9f9",
   "metadata": {},
   "outputs": [],
   "source": []
  },
  {
   "cell_type": "code",
   "execution_count": null,
   "id": "f8b1adb7-f83c-4125-a74d-a4891a42eecc",
   "metadata": {},
   "outputs": [],
   "source": []
  },
  {
   "cell_type": "code",
   "execution_count": null,
   "id": "7a465a56-7c19-4d1e-8c88-e96acfd2aaeb",
   "metadata": {},
   "outputs": [],
   "source": []
  },
  {
   "cell_type": "code",
   "execution_count": null,
   "id": "6f93051e-b3e1-4d41-b82f-97612026d39e",
   "metadata": {},
   "outputs": [],
   "source": []
  },
  {
   "cell_type": "code",
   "execution_count": null,
   "id": "d1ce2d17-b43a-4225-abfa-8054f53faeb6",
   "metadata": {},
   "outputs": [],
   "source": []
  },
  {
   "cell_type": "code",
   "execution_count": null,
   "id": "f9387afc-1f19-46c9-8755-0211cba156ab",
   "metadata": {},
   "outputs": [],
   "source": []
  },
  {
   "cell_type": "code",
   "execution_count": null,
   "id": "fb16e2ea-56d7-4f1e-8d5c-655a8605a53c",
   "metadata": {},
   "outputs": [],
   "source": []
  },
  {
   "cell_type": "code",
   "execution_count": null,
   "id": "9390e2c5-4e6e-4f0b-a4e7-fd62da7d7bc8",
   "metadata": {},
   "outputs": [],
   "source": []
  },
  {
   "cell_type": "code",
   "execution_count": null,
   "id": "c8e97a4d-af19-4098-927d-51144b23a095",
   "metadata": {},
   "outputs": [],
   "source": []
  },
  {
   "cell_type": "code",
   "execution_count": null,
   "id": "0fb030d5-957f-4bf4-8ea2-1efcdaec119d",
   "metadata": {},
   "outputs": [],
   "source": []
  }
 ],
 "metadata": {
  "kernelspec": {
   "display_name": "Python 3 (ipykernel)",
   "language": "python",
   "name": "python3"
  },
  "language_info": {
   "codemirror_mode": {
    "name": "ipython",
    "version": 3
   },
   "file_extension": ".py",
   "mimetype": "text/x-python",
   "name": "python",
   "nbconvert_exporter": "python",
   "pygments_lexer": "ipython3",
   "version": "3.13.3"
  }
 },
 "nbformat": 4,
 "nbformat_minor": 5
}
